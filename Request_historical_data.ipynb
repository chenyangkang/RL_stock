{
 "cells": [
  {
   "cell_type": "code",
   "execution_count": null,
   "metadata": {},
   "outputs": [],
   "source": []
  },
  {
   "cell_type": "code",
   "execution_count": 6,
   "metadata": {},
   "outputs": [],
   "source": [
    "import pandas as pd"
   ]
  },
  {
   "cell_type": "code",
   "execution_count": 4,
   "metadata": {},
   "outputs": [
    {
     "name": "stderr",
     "output_type": "stream",
     "text": [
      "100%|██████████| 1900/1900 [29:48<00:00,  1.06it/s]\n"
     ]
    }
   ],
   "source": [
    "import requests\n",
    "import datetime\n",
    "from tqdm.auto import tqdm\n",
    "\n",
    "date_start = datetime.datetime.strptime('2018-01-01-00:00:00','%Y-%m-%d-%H:%M:%S')\n",
    "date_end = datetime.datetime.strptime('2023-03-16-00:00:00','%Y-%m-%d-%H:%M:%S')\n",
    "total_days = (date_end - date_start).days\n",
    "total_news_list = []\n",
    "\n",
    "# progress_bar = tqdm(total=total_days)\n",
    "\n",
    "for day in tqdm(range(total_days)):\n",
    "    the_day = date_start + datetime.timedelta(days=day)\n",
    "    nex_day = the_day + datetime.timedelta(days=1)\n",
    "\n",
    "    url = f\"https://data.alpaca.markets/v1beta1/news?start={the_day.year}-{str(the_day.month).zfill(2)}-{str(the_day.day).zfill(2)}T00%3A00%3A00Z&end={nex_day.year}-{str(nex_day.month).zfill(2)}-{str(nex_day.day).zfill(2)}T00%3A00%3A00Z&sort=desc&symbols=AAPL&limit=50&include_content=true&exclude_contentless=true\"\n",
    "\n",
    "    headers = {\n",
    "        \"accept\": \"application/json\",\n",
    "        \"APCA-API-KEY-ID\": \"PK3NTETMV8ZG02I8E399\",\n",
    "        \"APCA-API-SECRET-KEY\": \"flcAxOGh1ALeaWsRULnOhoUFzsB3K7m4oo6agNmO\"\n",
    "    }\n",
    "\n",
    "    response = requests.get(url, headers=headers)\n",
    "\n",
    "    import json\n",
    "    newss = json.loads(response.text)['news']\n",
    "    newss = [{i:news[i] for i in ['author', 'content', 'created_at', 'headline']} for news in newss]\n",
    "    total_news_list.extend(newss)\n",
    "\n",
    "    # progress_bar.set_postfix_str(\"News count: {}\".format(len(total_news_list)))\n",
    "    # progress_bar.update(1)\n",
    "\n"
   ]
  },
  {
   "cell_type": "code",
   "execution_count": 8,
   "metadata": {},
   "outputs": [],
   "source": [
    "total_news_df = pd.DataFrame(total_news_list)\n"
   ]
  },
  {
   "cell_type": "code",
   "execution_count": 9,
   "metadata": {},
   "outputs": [],
   "source": [
    "total_news_df.to_csv('AAPL_news.csv', index=False)"
   ]
  },
  {
   "cell_type": "code",
   "execution_count": 10,
   "metadata": {},
   "outputs": [
    {
     "data": {
      "text/html": [
       "<div>\n",
       "<style scoped>\n",
       "    .dataframe tbody tr th:only-of-type {\n",
       "        vertical-align: middle;\n",
       "    }\n",
       "\n",
       "    .dataframe tbody tr th {\n",
       "        vertical-align: top;\n",
       "    }\n",
       "\n",
       "    .dataframe thead th {\n",
       "        text-align: right;\n",
       "    }\n",
       "</style>\n",
       "<table border=\"1\" class=\"dataframe\">\n",
       "  <thead>\n",
       "    <tr style=\"text-align: right;\">\n",
       "      <th></th>\n",
       "      <th>author</th>\n",
       "      <th>content</th>\n",
       "      <th>created_at</th>\n",
       "      <th>headline</th>\n",
       "    </tr>\n",
       "  </thead>\n",
       "  <tbody>\n",
       "    <tr>\n",
       "      <th>0</th>\n",
       "      <td>Benzinga</td>\n",
       "      <td>&lt;ul&gt;\\r\\n\\t&lt;li&gt;\\r\\n\\t\\t&lt;i&gt;Benzinga has featured...</td>\n",
       "      <td>2018-01-01T21:11:29Z</td>\n",
       "      <td>Benzinga's Bulls &amp; Bears: Apple, GE, Starbucks...</td>\n",
       "    </tr>\n",
       "    <tr>\n",
       "      <th>1</th>\n",
       "      <td>Benzinga</td>\n",
       "      <td>&lt;p&gt;In case you missed it, here are some of Ben...</td>\n",
       "      <td>2018-01-02T22:51:30Z</td>\n",
       "      <td>ICYMI: It's A New Year And Everyone's Polishin...</td>\n",
       "    </tr>\n",
       "    <tr>\n",
       "      <th>2</th>\n",
       "      <td>Benzinga</td>\n",
       "      <td>&lt;p&gt;Drexel Hamilton has named&amp;nbsp;&lt;strong&gt;Appl...</td>\n",
       "      <td>2018-01-02T20:16:42Z</td>\n",
       "      <td>Here's Why Apple Is Drexel's Top IT Pick For 2018</td>\n",
       "    </tr>\n",
       "    <tr>\n",
       "      <th>3</th>\n",
       "      <td>Benzinga</td>\n",
       "      <td>&lt;p&gt;Now that 2018 is finally here, everyone on ...</td>\n",
       "      <td>2018-01-02T17:35:09Z</td>\n",
       "      <td>New Year Predictions: Bitcoin Drops, Ripple Ri...</td>\n",
       "    </tr>\n",
       "    <tr>\n",
       "      <th>4</th>\n",
       "      <td>Benzinga</td>\n",
       "      <td>&lt;p&gt;January is here and for stocks, that may no...</td>\n",
       "      <td>2018-01-02T14:30:14Z</td>\n",
       "      <td>The Best Sector ETFs For January: Familiar Lea...</td>\n",
       "    </tr>\n",
       "    <tr>\n",
       "      <th>...</th>\n",
       "      <td>...</td>\n",
       "      <td>...</td>\n",
       "      <td>...</td>\n",
       "      <td>...</td>\n",
       "    </tr>\n",
       "    <tr>\n",
       "      <th>8555</th>\n",
       "      <td>Anusuya Lahiri</td>\n",
       "      <td>&lt;ul&gt;\\r\\n\\t&lt;li&gt;&lt;strong&gt;Apple Inc&lt;/strong&gt;&amp;nbsp;...</td>\n",
       "      <td>2023-03-15T12:58:45Z</td>\n",
       "      <td>Apple Joins Cost Cut Bandwagon, Eases On Bonus...</td>\n",
       "    </tr>\n",
       "    <tr>\n",
       "      <th>8556</th>\n",
       "      <td>Shanthi Rexaline</td>\n",
       "      <td>&lt;p&gt;Amid the fluid market condition, former hed...</td>\n",
       "      <td>2023-03-15T10:00:12Z</td>\n",
       "      <td>A Retail Stock That Left Apple, Amazon, Tesla ...</td>\n",
       "    </tr>\n",
       "    <tr>\n",
       "      <th>8557</th>\n",
       "      <td>Shanthi Rexaline</td>\n",
       "      <td>&lt;p&gt;&lt;strong&gt;Apple&amp;nbsp;Inc. &lt;/strong&gt;(NASDAQ:&lt;a...</td>\n",
       "      <td>2023-03-15T09:07:31Z</td>\n",
       "      <td>Apple Supplier Foxconn Guides To Flat Q1 After...</td>\n",
       "    </tr>\n",
       "    <tr>\n",
       "      <th>8558</th>\n",
       "      <td>Ananya Gairola</td>\n",
       "      <td>&lt;p&gt;Customers in the U.S. looking for more pers...</td>\n",
       "      <td>2023-03-15T03:53:34Z</td>\n",
       "      <td>Apple Unveils New Way To Buy iPhones In US: Ge...</td>\n",
       "    </tr>\n",
       "    <tr>\n",
       "      <th>8559</th>\n",
       "      <td>Ananya Gairola</td>\n",
       "      <td>&lt;p&gt;Last month, &lt;strong&gt;Samsung Electronics&lt;/st...</td>\n",
       "      <td>2023-03-14T12:11:37Z</td>\n",
       "      <td>Samsung Is Allegedly Faking Zoom Photos Of The...</td>\n",
       "    </tr>\n",
       "  </tbody>\n",
       "</table>\n",
       "<p>8560 rows × 4 columns</p>\n",
       "</div>"
      ],
      "text/plain": [
       "                author                                            content  \\\n",
       "0             Benzinga  <ul>\\r\\n\\t<li>\\r\\n\\t\\t<i>Benzinga has featured...   \n",
       "1             Benzinga  <p>In case you missed it, here are some of Ben...   \n",
       "2             Benzinga  <p>Drexel Hamilton has named&nbsp;<strong>Appl...   \n",
       "3             Benzinga  <p>Now that 2018 is finally here, everyone on ...   \n",
       "4             Benzinga  <p>January is here and for stocks, that may no...   \n",
       "...                ...                                                ...   \n",
       "8555    Anusuya Lahiri  <ul>\\r\\n\\t<li><strong>Apple Inc</strong>&nbsp;...   \n",
       "8556  Shanthi Rexaline  <p>Amid the fluid market condition, former hed...   \n",
       "8557  Shanthi Rexaline  <p><strong>Apple&nbsp;Inc. </strong>(NASDAQ:<a...   \n",
       "8558    Ananya Gairola  <p>Customers in the U.S. looking for more pers...   \n",
       "8559    Ananya Gairola  <p>Last month, <strong>Samsung Electronics</st...   \n",
       "\n",
       "                created_at                                           headline  \n",
       "0     2018-01-01T21:11:29Z  Benzinga's Bulls & Bears: Apple, GE, Starbucks...  \n",
       "1     2018-01-02T22:51:30Z  ICYMI: It's A New Year And Everyone's Polishin...  \n",
       "2     2018-01-02T20:16:42Z  Here's Why Apple Is Drexel's Top IT Pick For 2018  \n",
       "3     2018-01-02T17:35:09Z  New Year Predictions: Bitcoin Drops, Ripple Ri...  \n",
       "4     2018-01-02T14:30:14Z  The Best Sector ETFs For January: Familiar Lea...  \n",
       "...                    ...                                                ...  \n",
       "8555  2023-03-15T12:58:45Z  Apple Joins Cost Cut Bandwagon, Eases On Bonus...  \n",
       "8556  2023-03-15T10:00:12Z  A Retail Stock That Left Apple, Amazon, Tesla ...  \n",
       "8557  2023-03-15T09:07:31Z  Apple Supplier Foxconn Guides To Flat Q1 After...  \n",
       "8558  2023-03-15T03:53:34Z  Apple Unveils New Way To Buy iPhones In US: Ge...  \n",
       "8559  2023-03-14T12:11:37Z  Samsung Is Allegedly Faking Zoom Photos Of The...  \n",
       "\n",
       "[8560 rows x 4 columns]"
      ]
     },
     "execution_count": 10,
     "metadata": {},
     "output_type": "execute_result"
    }
   ],
   "source": [
    "total_news_df\n"
   ]
  },
  {
   "cell_type": "code",
   "execution_count": 25,
   "metadata": {},
   "outputs": [
    {
     "data": {
      "text/plain": [
       "'https://data.alpaca.markets/v1beta1/news?start=2018-01-01T00%3A00%3A00Z&end=2022-01-04T00%3A00%3A00Z&sort=desc&symbols=AAPL%2CTSLA%2CBTCUSD&limit=50&include_content=true&exclude_contentless=true'"
      ]
     },
     "execution_count": 25,
     "metadata": {},
     "output_type": "execute_result"
    }
   ],
   "source": [
    "url\n"
   ]
  },
  {
   "cell_type": "code",
   "execution_count": null,
   "metadata": {},
   "outputs": [],
   "source": []
  },
  {
   "cell_type": "code",
   "execution_count": null,
   "metadata": {},
   "outputs": [],
   "source": []
  }
 ],
 "metadata": {
  "kernelspec": {
   "display_name": "base",
   "language": "python",
   "name": "python3"
  },
  "language_info": {
   "codemirror_mode": {
    "name": "ipython",
    "version": 3
   },
   "file_extension": ".py",
   "mimetype": "text/x-python",
   "name": "python",
   "nbconvert_exporter": "python",
   "pygments_lexer": "ipython3",
   "version": "3.11.8"
  }
 },
 "nbformat": 4,
 "nbformat_minor": 2
}
